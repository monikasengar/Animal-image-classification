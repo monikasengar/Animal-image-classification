{
 "cells": [
  {
   "cell_type": "markdown",
   "id": "a90b7aed-34a7-41ae-9b93-cf101fbda123",
   "metadata": {},
   "source": [
    "#predict.py"
   ]
  },
  {
   "cell_type": "code",
   "execution_count": null,
   "id": "a65e37bf-14a1-45ab-b3f6-e38891af9aac",
   "metadata": {},
   "outputs": [],
   "source": [
    "import tensorflow as tf\n",
    "import numpy as np\n",
    "import cv2\n",
    "import os\n",
    "from tensorflow.keras.models import load_model\n",
    "from tensorflow.keras.preprocessing.image import img_to_array\n",
    "\n",
    "# Load trained model\n",
    "model = load_model(\"models/animal_classifier.h5\")\n",
    "\n",
    "# Define class labels\n",
    "class_names = ['Bear', 'Bird', 'Cat', 'Cow', 'Deer', 'Dog', 'Dolphin', 'Elephant', 'Giraffe', 'Horse', 'Kangaroo', 'Lion', 'Panda', 'Tiger', 'Zebra']\n",
    "\n",
    "def predict_image(image_path):\n",
    "    # Load and preprocess the image\n",
    "    image = cv2.imread(image_path)\n",
    "    image = cv2.resize(image, (224, 224))\n",
    "    image = img_to_array(image) / 255.0  # Normalize\n",
    "    image = np.expand_dims(image, axis=0)\n",
    "\n",
    "    #Ensure correct shape before prediction\n",
    "    #image = image.reshape(1, 224, 224, 3)\n",
    "\n",
    "    print(f\"Image shape before prediction: {image.shape}\")  # Debugging\n",
    " \n",
    "    # Make prediction\n",
    "    predictions = model.predict(image)\n",
    "    predicted_class = np.argmax(predictions)\n",
    "    \n",
    "    return class_names[predicted_class]\n",
    "\n",
    "# Test prediction\n",
    "if __name__ == \"__main__\":\n",
    "    test_image = \"test_images/bear_1.jpg\"  # Change this to your test image\n",
    "    prediction = predict_image(test_image)\n",
    "    print(f\"Predicted Animal: {prediction}\")\n",
    "\n"
   ]
  }
 ],
 "metadata": {
  "kernelspec": {
   "display_name": "Python 3 (ipykernel)",
   "language": "python",
   "name": "python3"
  },
  "language_info": {
   "codemirror_mode": {
    "name": "ipython",
    "version": 3
   },
   "file_extension": ".py",
   "mimetype": "text/x-python",
   "name": "python",
   "nbconvert_exporter": "python",
   "pygments_lexer": "ipython3",
   "version": "3.10.11"
  }
 },
 "nbformat": 4,
 "nbformat_minor": 5
}
