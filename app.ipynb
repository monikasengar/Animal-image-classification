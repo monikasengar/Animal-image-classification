{
 "cells": [
  {
   "cell_type": "markdown",
   "id": "a5dc98c4-168c-4bfc-8df0-dd6b878cf3fd",
   "metadata": {},
   "source": [
    "#app.py"
   ]
  },
  {
   "cell_type": "code",
   "execution_count": null,
   "id": "100bf91e-dbf9-4155-ac26-f5ed15985f9d",
   "metadata": {},
   "outputs": [],
   "source": [
    "from flask import Flask, render_template, request, redirect, url_for\n",
    "import tensorflow as tf\n",
    "import numpy as np\n",
    "import os\n",
    "from werkzeug.utils import secure_filename\n",
    "from tensorflow.keras.preprocessing import image\n",
    "\n",
    "app = Flask(__name__)\n",
    "app.config['UPLOAD_FOLDER'] = 'static/uploads'\n",
    "\n",
    "# Load trained model\n",
    "model = tf.keras.models.load_model('models/animal_classifier.h5')\n",
    "class_names = ['Bear', 'Bird', 'Cat', 'Cow', 'Deer', 'Dog', 'Dolphin', 'Elephant', 'Giraffe', 'Horse', 'Kangaroo', 'Lion', 'Panda', 'Tiger', 'Zebra']\n",
    "\n",
    "@app.route('/', methods=['GET', 'POST'])\n",
    "def upload_file():\n",
    "    return render_template('index.html')\n",
    "\n",
    "@app.route('/predict', methods=['POST'])\n",
    "def predict():\n",
    "    if 'file' not in request.files:\n",
    "        return redirect(request.url)\n",
    "    file = request.files['file']\n",
    "    if file.filename == '':\n",
    "        return redirect(request.url)\n",
    "    if file:\n",
    "        filename = secure_filename(file.filename)\n",
    "        filepath = os.path.join(app.config['UPLOAD_FOLDER'], filename)\n",
    "        file.save(filepath)\n",
    "        \n",
    "        # Preprocess image\n",
    "        img = image.load_img(filepath, target_size=(224, 224))\n",
    "        img_array = image.img_to_array(img) / 255.0\n",
    "        img_array = np.expand_dims(img_array, axis=0)\n",
    "        \n",
    "        # Prediction\n",
    "        predictions = model.predict(img_array)\n",
    "        predicted_class = class_names[np.argmax(predictions[0])]\n",
    "        \n",
    "        return render_template('index.html', prediction=predicted_class, image_url=filepath)\n",
    "\n",
    "if __name__ == '__main__':\n",
    "    app.run(debug=True)\n"
   ]
  }
 ],
 "metadata": {
  "kernelspec": {
   "display_name": "Python 3 (ipykernel)",
   "language": "python",
   "name": "python3"
  },
  "language_info": {
   "codemirror_mode": {
    "name": "ipython",
    "version": 3
   },
   "file_extension": ".py",
   "mimetype": "text/x-python",
   "name": "python",
   "nbconvert_exporter": "python",
   "pygments_lexer": "ipython3",
   "version": "3.10.11"
  }
 },
 "nbformat": 4,
 "nbformat_minor": 5
}
