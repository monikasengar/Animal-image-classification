{
 "cells": [
  {
   "cell_type": "markdown",
   "id": "51c7db43-f162-458b-a45d-b75d9f97a557",
   "metadata": {},
   "source": [
    "#index.html"
   ]
  },
  {
   "cell_type": "code",
   "execution_count": null,
   "id": "88262ca7-0ebf-4ae5-8c9f-f372057d6332",
   "metadata": {},
   "outputs": [],
   "source": [
    "!DOCTYPE html>\n",
    "<html lang=\"en\">\n",
    "<head>\n",
    "    <meta charset=\"UTF-8\">\n",
    "    <meta name=\"viewport\" content=\"width=device-width, initial-scale=1.0\">\n",
    "    <title>Animal Image Classification</title>\n",
    "    <link rel=\"stylesheet\" href=\"static/style.css\">\n",
    "</head>\n",
    "<body>\n",
    "    <div class=\"container\">\n",
    "        <h1>Upload an Animal Image</h1>\n",
    "        <form action=\"/predict\" method=\"post\" enctype=\"multipart/form-data\">\n",
    "            <input type=\"file\" name=\"file\" accept=\"image/*\" required>\n",
    "            <button type=\"submit\">Predict</button>\n",
    "        </form>\n",
    "        {% if prediction %}\n",
    "        <h2>Prediction: {{ prediction }}</h2>\n",
    "        <img src=\"{{ image_url }}\" alt=\"Uploaded Image\" class=\"preview\">\n",
    "        {% endif %}\n",
    "    </div>\n",
    "</body>\n",
    "</html>"
   ]
  }
 ],
 "metadata": {
  "kernelspec": {
   "display_name": "Python 3 (ipykernel)",
   "language": "python",
   "name": "python3"
  },
  "language_info": {
   "codemirror_mode": {
    "name": "ipython",
    "version": 3
   },
   "file_extension": ".py",
   "mimetype": "text/x-python",
   "name": "python",
   "nbconvert_exporter": "python",
   "pygments_lexer": "ipython3",
   "version": "3.10.11"
  }
 },
 "nbformat": 4,
 "nbformat_minor": 5
}
