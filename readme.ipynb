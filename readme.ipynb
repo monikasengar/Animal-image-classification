{
 "cells": [
  {
   "cell_type": "code",
   "execution_count": null,
   "id": "16d5802b-9dea-48d5-ba32-c21964d628ac",
   "metadata": {},
   "outputs": [],
   "source": [
    "download the image files animal image classification dataset from the link and add to a folder in vscode project folder before running the project files https://www.kaggle.com/datasets/monikasengar/animal-image-dataset"
   ]
  }
 ],
 "metadata": {
  "kernelspec": {
   "display_name": "Python 3 (ipykernel)",
   "language": "python",
   "name": "python3"
  },
  "language_info": {
   "codemirror_mode": {
    "name": "ipython",
    "version": 3
   },
   "file_extension": ".py",
   "mimetype": "text/x-python",
   "name": "python",
   "nbconvert_exporter": "python",
   "pygments_lexer": "ipython3",
   "version": "3.10.11"
  }
 },


 "nbformat": 4,
 "nbformat_minor": 5
}



"Since the project size is large and cannot be pushed to GitHub, only the essential code files (Python files, HTML file, README.md, and requirements.txt) are provided here. These files can be reassembled in VS Code to run the web app. Additionally, the VS Code pipeline structure diagram has been uploaded as a document file."
