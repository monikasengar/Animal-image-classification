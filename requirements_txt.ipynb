{
 "cells": [
  {
   "cell_type": "markdown",
   "id": "9b20df81-95dd-487e-8334-48d8d4fedc71",
   "metadata": {},
   "source": [
    "#requirements.txt"
   ]
  },
  {
   "cell_type": "code",
   "execution_count": null,
   "id": "fbee2050-2a85-419d-8f74-f1b235894e7c",
   "metadata": {},
   "outputs": [],
   "source": [
    "Flask\n",
    "tensorflow\n",
    "numpy\n",
    "pillow\n",
    "werkzeug\n"
   ]
  }
 ],
 "metadata": {
  "kernelspec": {
   "display_name": "Python 3 (ipykernel)",
   "language": "python",
   "name": "python3"
  },
  "language_info": {
   "codemirror_mode": {
    "name": "ipython",
    "version": 3
   },
   "file_extension": ".py",
   "mimetype": "text/x-python",
   "name": "python",
   "nbconvert_exporter": "python",
   "pygments_lexer": "ipython3",
   "version": "3.10.11"
  }
 },
 "nbformat": 4,
 "nbformat_minor": 5
}
